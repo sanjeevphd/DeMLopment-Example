{
 "cells": [
  {
   "cell_type": "markdown",
   "metadata": {},
   "source": [
    "# Inference Testing"
   ]
  },
  {
   "cell_type": "markdown",
   "metadata": {
    "vscode": {
     "languageId": "plaintext"
    }
   },
   "source": [
    "## Model Checking\n",
    "\n",
    "Run a sample MNIST image through the saved model and observe the outputs.\n",
    "Format the predicted outputs to make it consumable."
   ]
  },
  {
   "cell_type": "markdown",
   "metadata": {},
   "source": [
    "## Load Saved Model"
   ]
  },
  {
   "cell_type": "code",
   "execution_count": 82,
   "metadata": {},
   "outputs": [],
   "source": [
    "from pathlib import Path\n",
    "\n",
    "import torch"
   ]
  },
  {
   "cell_type": "code",
   "execution_count": 83,
   "metadata": {},
   "outputs": [],
   "source": [
    "def load_model(jit_model_path):\n",
    "    model = None\n",
    "    try:\n",
    "        model = torch.jit.load(jit_model_path)\n",
    "    except RuntimeError:\n",
    "        print(f\"Unrecognized model format. Expecting model in TorchScript format. \"\n",
    "              f\"{jit_model_path}\")\n",
    "\n",
    "    return model"
   ]
  },
  {
   "cell_type": "code",
   "execution_count": 84,
   "metadata": {},
   "outputs": [
    {
     "name": "stdout",
     "output_type": "stream",
     "text": [
      "RecursiveScriptModule(\n",
      "  original_name=SimpleCNN\n",
      "  (conv1): RecursiveScriptModule(original_name=Conv2d)\n",
      "  (conv2): RecursiveScriptModule(original_name=Conv2d)\n",
      "  (dropout1): RecursiveScriptModule(original_name=Dropout)\n",
      "  (dropout2): RecursiveScriptModule(original_name=Dropout)\n",
      "  (fc1): RecursiveScriptModule(original_name=Linear)\n",
      "  (fc2): RecursiveScriptModule(original_name=Linear)\n",
      ")\n"
     ]
    }
   ],
   "source": [
    "MODEL_ARTIFACT = Path(\"./artifacts/SimpleCNN_mnist_jit.pt\")\n",
    "model = load_model(MODEL_ARTIFACT)\n",
    "print(model)"
   ]
  },
  {
   "cell_type": "markdown",
   "metadata": {},
   "source": [
    "## Load Image"
   ]
  },
  {
   "cell_type": "code",
   "execution_count": 95,
   "metadata": {},
   "outputs": [],
   "source": [
    "import os\n",
    "import random\n",
    "\n",
    "from PIL import Image\n",
    "\n",
    "def get_sample_image():\n",
    "    SAMPLE_IMAGES_DIR = Path(\"dataset/MNIST/sample_images\")\n",
    "    sample_images = os.listdir(SAMPLE_IMAGES_DIR)\n",
    "    sample_image = SAMPLE_IMAGES_DIR / random.choice(sample_images)\n",
    "\n",
    "    return sample_image\n",
    "\n",
    "def show_image_stats(image_path):\n",
    "    img = Image.open(image_path)\n",
    "    print(f\"Image: {image_path.name}\", end=\"  \")\n",
    "    print(f\"Format: {img.format}  Size: {img.size}  Mode: {img.mode}\")\n",
    "    img.show()\n"
   ]
  },
  {
   "cell_type": "markdown",
   "metadata": {},
   "source": [
    "## Transform Image"
   ]
  },
  {
   "cell_type": "code",
   "execution_count": 87,
   "metadata": {},
   "outputs": [],
   "source": [
    "from torchvision.transforms import ToTensor, Normalize\n",
    "\n",
    "def tensorify_image(image_path):\n",
    "    img = Image.open(image_path)\n",
    "    tensor_img = ToTensor()(img)\n",
    "    norm_img = Normalize((0.1307,), (0.3081,))(tensor_img)\n",
    "    return norm_img.unsqueeze(0)"
   ]
  },
  {
   "cell_type": "code",
   "execution_count": 93,
   "metadata": {},
   "outputs": [
    {
     "data": {
      "text/plain": [
       "'1'"
      ]
     },
     "execution_count": 93,
     "metadata": {},
     "output_type": "execute_result"
    }
   ],
   "source": [
    "sample_image.as_posix()[-5]"
   ]
  },
  {
   "cell_type": "code",
   "execution_count": 96,
   "metadata": {},
   "outputs": [
    {
     "name": "stdout",
     "output_type": "stream",
     "text": [
      "Image: image_43214_1.png  Format: PNG  Size: (28, 28)  Mode: L\n"
     ]
    },
    {
     "data": {
      "image/png": "[encoded data removed]",
      "text/plain": [
       "<PIL.PngImagePlugin.PngImageFile image mode=L size=28x28>"
      ]
     },
     "metadata": {},
     "output_type": "display_data"
    },
    {
     "name": "stdout",
     "output_type": "stream",
     "text": [
      "Actual 1  Predicted: 7\n",
      "Image: image_31386_1.png  Format: PNG  Size: (28, 28)  Mode: L\n"
     ]
    },
    {
     "data": {
      "image/png": "[encoded data removed]",
      "text/plain": [
       "<PIL.PngImagePlugin.PngImageFile image mode=L size=28x28>"
      ]
     },
     "metadata": {},
     "output_type": "display_data"
    },
    {
     "name": "stdout",
     "output_type": "stream",
     "text": [
      "Actual 1  Predicted: 7\n",
      "Image: image_45146_0.png  Format: PNG  Size: (28, 28)  Mode: L\n"
     ]
    },
    {
     "data": {
      "image/png": "[encoded data removed]",
      "text/plain": [
       "<PIL.PngImagePlugin.PngImageFile image mode=L size=28x28>"
      ]
     },
     "metadata": {},
     "output_type": "display_data"
    },
    {
     "name": "stdout",
     "output_type": "stream",
     "text": [
      "Actual 0  Predicted: 7\n",
      "Image: image_10590_7.png  Format: PNG  Size: (28, 28)  Mode: L\n"
     ]
    },
    {
     "data": {
      "image/png": "[encoded data removed]",
      "text/plain": [
       "<PIL.PngImagePlugin.PngImageFile image mode=L size=28x28>"
      ]
     },
     "metadata": {},
     "output_type": "display_data"
    },
    {
     "name": "stdout",
     "output_type": "stream",
     "text": [
      "Actual 7  Predicted: 7\n",
      "Image: image_8610_1.png  Format: PNG  Size: (28, 28)  Mode: L\n"
     ]
    },
    {
     "data": {
      "image/png": "[encoded data removed]",
      "text/plain": [
       "<PIL.PngImagePlugin.PngImageFile image mode=L size=28x28>"
      ]
     },
     "metadata": {},
     "output_type": "display_data"
    },
    {
     "name": "stdout",
     "output_type": "stream",
     "text": [
      "Actual 1  Predicted: 7\n",
      "Image: image_51853_4.png  Format: PNG  Size: (28, 28)  Mode: L\n"
     ]
    },
    {
     "data": {
      "image/png": "[encoded data removed]",
      "text/plain": [
       "<PIL.PngImagePlugin.PngImageFile image mode=L size=28x28>"
      ]
     },
     "metadata": {},
     "output_type": "display_data"
    },
    {
     "name": "stdout",
     "output_type": "stream",
     "text": [
      "Actual 4  Predicted: 7\n",
      "Image: image_34571_4.png  Format: PNG  Size: (28, 28)  Mode: L\n"
     ]
    },
    {
     "data": {
      "image/png": "[encoded data removed]",
      "text/plain": [
       "<PIL.PngImagePlugin.PngImageFile image mode=L size=28x28>"
      ]
     },
     "metadata": {},
     "output_type": "display_data"
    },
    {
     "name": "stdout",
     "output_type": "stream",
     "text": [
      "Actual 4  Predicted: 7\n",
      "Image: image_36187_2.png  Format: PNG  Size: (28, 28)  Mode: L\n"
     ]
    },
    {
     "data": {
      "image/png": "[encoded data removed]",
      "text/plain": [
       "<PIL.PngImagePlugin.PngImageFile image mode=L size=28x28>"
      ]
     },
     "metadata": {},
     "output_type": "display_data"
    },
    {
     "name": "stdout",
     "output_type": "stream",
     "text": [
      "Actual 2  Predicted: 7\n",
      "Image: image_9470_7.png  Format: PNG  Size: (28, 28)  Mode: L\n"
     ]
    },
    {
     "data": {
      "image/png": "[encoded data removed]",
      "text/plain": [
       "<PIL.PngImagePlugin.PngImageFile image mode=L size=28x28>"
      ]
     },
     "metadata": {},
     "output_type": "display_data"
    },
    {
     "name": "stdout",
     "output_type": "stream",
     "text": [
      "Actual 7  Predicted: 7\n",
      "Image: image_1394_1.png  Format: PNG  Size: (28, 28)  Mode: L\n"
     ]
    },
    {
     "data": {
      "image/png": "[encoded data removed]",
      "text/plain": [
       "<PIL.PngImagePlugin.PngImageFile image mode=L size=28x28>"
      ]
     },
     "metadata": {},
     "output_type": "display_data"
    },
    {
     "name": "stdout",
     "output_type": "stream",
     "text": [
      "Actual 1  Predicted: 7\n"
     ]
    }
   ],
   "source": [
    "for _ in range(10):\n",
    "    sample_image = get_sample_image()\n",
    "    show_image_stats(sample_image)\n",
    "    img_tensor = tensorify_image(sample_image)\n",
    "    model.eval()\n",
    "    with torch.no_grad():\n",
    "        output = model(img_tensor)\n",
    "    pred = output.argmax(dim=1, keepdim=True).item()\n",
    "    print(f\"Actual {sample_image.as_posix()[-5]}  Predicted: {pred}\")"
   ]
  },
  {
   "cell_type": "code",
   "execution_count": 97,
   "metadata": {},
   "outputs": [
    {
     "data": {
      "text/plain": [
       "True"
      ]
     },
     "execution_count": 97,
     "metadata": {},
     "output_type": "execute_result"
    }
   ],
   "source": [
    "isinstance(img_tensor, torch.Tensor)"
   ]
  },
  {
   "cell_type": "markdown",
   "metadata": {},
   "source": [
    "## MNIST Dataset"
   ]
  },
  {
   "cell_type": "markdown",
   "metadata": {},
   "source": [
    "```\n",
    "from torchvision import datasets, transforms\n",
    "\n",
    "transform = transforms.Compose([\n",
    "    transforms.ToTensor(),\n",
    "    transforms.Normalize((0.1307,), (0.3081,))])\n",
    "\n",
    "mnist_train = datasets.MNIST(\"./dataset\", train=True, transform=transform)\n",
    "mnist_test = datasets.MNIST(\"./dataset\", train=False, transform=transform)\n",
    "\n",
    "mnist_train_loader = torch.utils.data.DataLoader(mnist_train, batch_size=64)\n",
    "mnist_test_loader = torch.utils.data.DataLoader(mnist_test, batch_size=100)\n",
    "```"
   ]
  },
  {
   "cell_type": "markdown",
   "metadata": {},
   "source": [
    "```\n",
    "for data, target in mnist_train_loader:\n",
    "    break\n",
    "data.shape\n",
    "```"
   ]
  }
 ],
 "metadata": {
  "kernelspec": {
   "display_name": "Python 3 (ipykernel)",
   "language": "python",
   "name": "python3"
  },
  "language_info": {
   "codemirror_mode": {
    "name": "ipython",
    "version": 3
   },
   "file_extension": ".py",
   "mimetype": "text/x-python",
   "name": "python",
   "nbconvert_exporter": "python",
   "pygments_lexer": "ipython3",
   "version": "3.9.13"
  },
  "orig_nbformat": 4
 },
 "nbformat": 4,
 "nbformat_minor": 2
}
